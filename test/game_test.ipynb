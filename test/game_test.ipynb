{
 "cells": [
  {
   "cell_type": "code",
   "execution_count": 1,
   "metadata": {},
   "outputs": [],
   "source": [
    "from src.game.game import Game\n",
    "from src.game.player import Player\n",
    "from src.agent.random_agent import RandomAgent\n",
    "from src.agent.place1_agent import Place1Agent\n",
    "from src.agent.select1_agent import Select1Agent\n",
    "from src.agent.place1_select1_agent import Place1Select1Agent\n",
    "from src.agent.monte_calro_tree_search import MCTSAgent"
   ]
  },
  {
   "cell_type": "code",
   "execution_count": 2,
   "metadata": {},
   "outputs": [],
   "source": [
    "def simulate_game(game: Game, agent1, agent2):\n",
    "    while True:\n",
    "        # check if game is over\n",
    "        is_gameover, _ = game.is_game_over()\n",
    "        if is_gameover:\n",
    "            break\n",
    "        # play turn\n",
    "        if game.current_player == Player.Player1:\n",
    "            agent1.play_turn()\n",
    "        else:\n",
    "            agent2.play_turn()\n",
    "\n",
    "    return game"
   ]
  },
  {
   "cell_type": "code",
   "execution_count": 3,
   "metadata": {},
   "outputs": [
    {
     "name": "stdout",
     "output_type": "stream",
     "text": [
      "Random vs Place1:\n",
      "Random wins: 947\n",
      "Place1 wins: 9023\n",
      "Draws: 30\n",
      "--------------------------------------------------\n",
      "Random vs Select1:\n",
      "Random wins: 3991\n",
      "Select1 wins: 5387\n",
      "Draws: 622\n",
      "--------------------------------------------------\n",
      "Random vs Place1Select1:\n",
      "Random wins: 697\n",
      "Place1Select1 wins: 9264\n",
      "Draws: 39\n",
      "--------------------------------------------------\n"
     ]
    },
    {
     "ename": "ValueError",
     "evalue": "<src.game.piece.Piece object at 0x1040f3980> is not in list",
     "output_type": "error",
     "traceback": [
      "\u001b[0;31m---------------------------------------------------------------------------\u001b[0m",
      "\u001b[0;31mValueError\u001b[0m                                Traceback (most recent call last)",
      "Cell \u001b[0;32mIn[3], line 27\u001b[0m\n\u001b[1;32m     25\u001b[0m agent1 \u001b[38;5;241m=\u001b[39m get_agent(game, agent1_name)\n\u001b[1;32m     26\u001b[0m agent2 \u001b[38;5;241m=\u001b[39m get_agent(game, agent2_name)\n\u001b[0;32m---> 27\u001b[0m game \u001b[38;5;241m=\u001b[39m \u001b[43msimulate_game\u001b[49m\u001b[43m(\u001b[49m\u001b[43mgame\u001b[49m\u001b[43m,\u001b[49m\u001b[43m \u001b[49m\u001b[43magent1\u001b[49m\u001b[43m,\u001b[49m\u001b[43m \u001b[49m\u001b[43magent2\u001b[49m\u001b[43m)\u001b[49m\n\u001b[1;32m     28\u001b[0m _, winner \u001b[38;5;241m=\u001b[39m game\u001b[38;5;241m.\u001b[39mis_game_over()\n\u001b[1;32m     29\u001b[0m wins[winner] \u001b[38;5;241m+\u001b[39m\u001b[38;5;241m=\u001b[39m \u001b[38;5;241m1\u001b[39m\n",
      "Cell \u001b[0;32mIn[2], line 11\u001b[0m, in \u001b[0;36msimulate_game\u001b[0;34m(game, agent1, agent2)\u001b[0m\n\u001b[1;32m      9\u001b[0m         agent1\u001b[38;5;241m.\u001b[39mplay_turn()\n\u001b[1;32m     10\u001b[0m     \u001b[38;5;28;01melse\u001b[39;00m:\n\u001b[0;32m---> 11\u001b[0m         \u001b[43magent2\u001b[49m\u001b[38;5;241;43m.\u001b[39;49m\u001b[43mplay_turn\u001b[49m\u001b[43m(\u001b[49m\u001b[43m)\u001b[49m\n\u001b[1;32m     13\u001b[0m \u001b[38;5;28;01mreturn\u001b[39;00m game\n",
      "File \u001b[0;32m~/Documents/Codes/quart-ai/src/agent/monte_calro_tree_search.py:92\u001b[0m, in \u001b[0;36mMCTSAgent.play_turn\u001b[0;34m(self)\u001b[0m\n\u001b[1;32m     90\u001b[0m \u001b[38;5;28;01mdef\u001b[39;00m \u001b[38;5;21mplay_turn\u001b[39m(\u001b[38;5;28mself\u001b[39m):\n\u001b[1;32m     91\u001b[0m     \u001b[38;5;66;03m# Select the best position to place the current piece\u001b[39;00m\n\u001b[0;32m---> 92\u001b[0m     row, col \u001b[38;5;241m=\u001b[39m \u001b[38;5;28;43mself\u001b[39;49m\u001b[38;5;241;43m.\u001b[39;49m\u001b[43mselect_position\u001b[49m\u001b[43m(\u001b[49m\u001b[43m)\u001b[49m\n\u001b[1;32m     93\u001b[0m     \u001b[38;5;66;03m# Select a random piece for the opponent\u001b[39;00m\n\u001b[1;32m     94\u001b[0m     piece_index \u001b[38;5;241m=\u001b[39m \u001b[38;5;28mself\u001b[39m\u001b[38;5;241m.\u001b[39mselect_piece()\n",
      "File \u001b[0;32m~/Documents/Codes/quart-ai/src/agent/monte_calro_tree_search.py:85\u001b[0m, in \u001b[0;36mMCTSAgent.select_position\u001b[0;34m(self)\u001b[0m\n\u001b[1;32m     82\u001b[0m     node\u001b[38;5;241m.\u001b[39mbackpropagate(result)\n\u001b[1;32m     84\u001b[0m best_child \u001b[38;5;241m=\u001b[39m root\u001b[38;5;241m.\u001b[39mbest_child(exploration_weight\u001b[38;5;241m=\u001b[39m\u001b[38;5;241m0\u001b[39m)\n\u001b[0;32m---> 85\u001b[0m \u001b[38;5;28;01mreturn\u001b[39;00m \u001b[43mbest_child\u001b[49m\u001b[38;5;241;43m.\u001b[39;49m\u001b[43mgame_state\u001b[49m\u001b[38;5;241;43m.\u001b[39;49m\u001b[43mboard\u001b[49m\u001b[38;5;241;43m.\u001b[39;49m\u001b[43mgrid\u001b[49m\u001b[38;5;241;43m.\u001b[39;49m\u001b[43mindex\u001b[49m\u001b[43m(\u001b[49m\u001b[43mbest_child\u001b[49m\u001b[38;5;241;43m.\u001b[39;49m\u001b[43mgame_state\u001b[49m\u001b[38;5;241;43m.\u001b[39;49m\u001b[43mselected_piece\u001b[49m\u001b[43m)\u001b[49m\n",
      "\u001b[0;31mValueError\u001b[0m: <src.game.piece.Piece object at 0x1040f3980> is not in list"
     ]
    }
   ],
   "source": [
    "from collections import Counter\n",
    "\n",
    "agent_names = [\"Random\", \"Place1\", \"Select1\", \"Place1Select1\", \"MCTSAgent\"]\n",
    "n_plays = 10 ** 4\n",
    "\n",
    "def get_agent(game, agent_name):\n",
    "    if agent_name == \"Random\":\n",
    "        return RandomAgent(game)\n",
    "    elif agent_name == \"Place1\":\n",
    "        return Place1Agent(game)\n",
    "    elif agent_name == \"Select1\":\n",
    "        return Select1Agent(game)\n",
    "    elif agent_name == \"Place1Select1\":\n",
    "        return Place1Select1Agent(game)\n",
    "    elif agent_name == \"MCTSAgent\":\n",
    "        return MCTSAgent(game)\n",
    "\n",
    "for i, agent1_name in enumerate(agent_names):\n",
    "    for j, agent2_name in enumerate(agent_names):\n",
    "        if i >= j:\n",
    "            continue\n",
    "        wins = Counter()\n",
    "        for _ in range(n_plays):\n",
    "            game = Game()\n",
    "            agent1 = get_agent(game, agent1_name)\n",
    "            agent2 = get_agent(game, agent2_name)\n",
    "            game = simulate_game(game, agent1, agent2)\n",
    "            _, winner = game.is_game_over()\n",
    "            wins[winner] += 1\n",
    "        print(f\"{agent1_name} vs {agent2_name}:\")\n",
    "        print(f\"{agent1_name} wins: {wins[1]}\")\n",
    "        print(f\"{agent2_name} wins: {wins[2]}\")\n",
    "        print(f\"Draws: {wins[0]}\")\n",
    "        print(\"-\" * 50)"
   ]
  }
 ],
 "metadata": {
  "kernelspec": {
   "display_name": ".venv",
   "language": "python",
   "name": "python3"
  },
  "language_info": {
   "codemirror_mode": {
    "name": "ipython",
    "version": 3
   },
   "file_extension": ".py",
   "mimetype": "text/x-python",
   "name": "python",
   "nbconvert_exporter": "python",
   "pygments_lexer": "ipython3",
   "version": "3.12.5"
  }
 },
 "nbformat": 4,
 "nbformat_minor": 2
}
